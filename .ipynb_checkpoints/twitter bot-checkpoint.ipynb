{
 "cells": [
  {
   "cell_type": "code",
   "execution_count": 1,
   "metadata": {
    "collapsed": true
   },
   "outputs": [],
   "source": [
    "from twython import Twython, TwythonError\n",
    "from dateutil import parser\n",
    "\n",
    "#import codecs\n",
    "#import requests\n",
    "#import re"
   ]
  },
  {
   "cell_type": "code",
   "execution_count": 2,
   "metadata": {
    "collapsed": true
   },
   "outputs": [],
   "source": [
    "APP_KEY = 'OFsO1Uq4ljX1wmy5nwarLLbfp'\n",
    "APP_SECRET = 'A9v7CsMUkrkXhBXttkzLQeqO3v5EcJNIXXynDOj5sUmzx21gIZ'\n",
    "\n",
    "OAUTH_TOKEN = '369211645-KgFHay26KIj2ZWfqOgprp9UK72oA0CqDyErZyIrO'  # Access Token here\n",
    "OAUTH_TOKEN_SECRET = 'pSOSXJbj7TeXp5iOyBMkt8cucDGm0WJUVAbMNeV1MYvJe'  # Access Token Secret here\n",
    "\n",
    "twitter = Twython(APP_KEY, APP_SECRET, OAUTH_TOKEN, OAUTH_TOKEN_SECRET)"
   ]
  },
  {
   "cell_type": "code",
   "execution_count": 3,
   "metadata": {
    "collapsed": true
   },
   "outputs": [],
   "source": [
    "from chain_builder import get_sentence\n",
    "import cPickle as pickle\n",
    "from itertools import count\n",
    "from twython import Twython, TwythonError\n",
    "\n",
    "with open('f_dict.pkl') as f:\n",
    "    f_dict = pickle.load(f)\n",
    "\n",
    "with open('r_dict.pkl') as f:\n",
    "    r_dict = pickle.load(f)"
   ]
  },
  {
   "cell_type": "code",
   "execution_count": 8,
   "metadata": {
    "collapsed": false
   },
   "outputs": [
    {
     "name": "stdout",
     "output_type": "stream",
     "text": [
      "@towardstengen I was the fair hair person.\n",
      "@towardstengen When will Alex Salmond realize that he's destroying Scotland--the most beautiful countryside in the world is in China.\n",
      "@warshmellow The VA scandal shows the fatal ineptitude of big central planning government.\n"
     ]
    }
   ],
   "source": [
    "tmp = twitter.get_mentions_timeline()\n",
    "last_responded_time = parser.parse(tmp[0]['created_at'])\n",
    "\n",
    "for i in xrange(len(tmp)):\n",
    "    if parser.parse(tmp[i]['created_at']) <= last_responded_time:\n",
    "        screen_name = tmp[i]['user']['screen_name']\n",
    "        message = \" \".join(tmp[i]['text'].split()[1:])\n",
    "        response = get_sentence(message, f_dict, r_dict, randomness = 1)\n",
    "        response = '@'+ screen_name + \" \" + response\n",
    "        print response\n",
    "        #twitter.update_status(status=response)"
   ]
  },
  {
   "cell_type": "code",
   "execution_count": 7,
   "metadata": {
    "collapsed": false
   },
   "outputs": [
    {
     "data": {
      "text/plain": [
       "{u'contributors': None,\n",
       " u'coordinates': None,\n",
       " u'created_at': u'Wed Nov 25 06:03:26 +0000 2015',\n",
       " u'entities': {u'hashtags': [],\n",
       "  u'symbols': [],\n",
       "  u'urls': [],\n",
       "  u'user_mentions': [{u'id': 369211645,\n",
       "    u'id_str': u'369211645',\n",
       "    u'indices': [0, 15],\n",
       "    u'name': u'Trumpmatix',\n",
       "    u'screen_name': u'realtrumpmatix'}]},\n",
       " u'favorite_count': 0,\n",
       " u'favorited': False,\n",
       " u'geo': None,\n",
       " u'id': 669395951354839040,\n",
       " u'id_str': u'669395951354839040',\n",
       " u'in_reply_to_screen_name': u'realtrumpmatix',\n",
       " u'in_reply_to_status_id': None,\n",
       " u'in_reply_to_status_id_str': None,\n",
       " u'in_reply_to_user_id': 369211645,\n",
       " u'in_reply_to_user_id_str': u'369211645',\n",
       " u'is_quote_status': False,\n",
       " u'lang': u'en',\n",
       " u'place': None,\n",
       " u'retweet_count': 0,\n",
       " u'retweeted': False,\n",
       " u'source': u'<a href=\"https://mobile.twitter.com\" rel=\"nofollow\">Mobile Web (M5)</a>',\n",
       " u'text': u\"@realtrumpmatix what's up with your hair?\",\n",
       " u'truncated': False,\n",
       " u'user': {u'contributors_enabled': False,\n",
       "  u'created_at': u'Fri Jul 03 02:06:45 +0000 2009',\n",
       "  u'default_profile': False,\n",
       "  u'default_profile_image': False,\n",
       "  u'description': u'',\n",
       "  u'entities': {u'description': {u'urls': []}},\n",
       "  u'favourites_count': 2,\n",
       "  u'follow_request_sent': False,\n",
       "  u'followers_count': 40,\n",
       "  u'following': False,\n",
       "  u'friends_count': 17,\n",
       "  u'geo_enabled': False,\n",
       "  u'has_extended_profile': False,\n",
       "  u'id': 53262235,\n",
       "  u'id_str': u'53262235',\n",
       "  u'is_translation_enabled': False,\n",
       "  u'is_translator': False,\n",
       "  u'lang': u'en',\n",
       "  u'listed_count': 0,\n",
       "  u'location': u'',\n",
       "  u'name': u'Shanthanu Bhardwaj',\n",
       "  u'notifications': False,\n",
       "  u'profile_background_color': u'8B542B',\n",
       "  u'profile_background_image_url': u'http://abs.twimg.com/images/themes/theme8/bg.gif',\n",
       "  u'profile_background_image_url_https': u'https://abs.twimg.com/images/themes/theme8/bg.gif',\n",
       "  u'profile_background_tile': False,\n",
       "  u'profile_image_url': u'http://pbs.twimg.com/profile_images/553466756/befunky_artwork_normal.jpg',\n",
       "  u'profile_image_url_https': u'https://pbs.twimg.com/profile_images/553466756/befunky_artwork_normal.jpg',\n",
       "  u'profile_link_color': u'9D582E',\n",
       "  u'profile_sidebar_border_color': u'D9B17E',\n",
       "  u'profile_sidebar_fill_color': u'EADEAA',\n",
       "  u'profile_text_color': u'333333',\n",
       "  u'profile_use_background_image': True,\n",
       "  u'protected': False,\n",
       "  u'screen_name': u'towardstengen',\n",
       "  u'statuses_count': 3,\n",
       "  u'time_zone': None,\n",
       "  u'url': None,\n",
       "  u'utc_offset': None,\n",
       "  u'verified': False}}"
      ]
     },
     "execution_count": 7,
     "metadata": {},
     "output_type": "execute_result"
    }
   ],
   "source": [
    "tmp[0]"
   ]
  },
  {
   "cell_type": "code",
   "execution_count": 23,
   "metadata": {
    "collapsed": false
   },
   "outputs": [
    {
     "data": {
      "text/plain": [
       "True"
      ]
     },
     "execution_count": 23,
     "metadata": {},
     "output_type": "execute_result"
    }
   ],
   "source": [
    "parser.parse(tmp[0]['created_at']) > parser.parse(tmp[2]['created_at'])"
   ]
  },
  {
   "cell_type": "code",
   "execution_count": 21,
   "metadata": {
    "collapsed": true
   },
   "outputs": [],
   "source": [
    "from dateutil import parser\n",
    "dt = parser.parse(\"Aug 28 1799 12:00AM\")\n",
    "dt0 = parser.parse(\"Aug 26 1808 12:00PM\")"
   ]
  },
  {
   "cell_type": "code",
   "execution_count": 6,
   "metadata": {
    "collapsed": false
   },
   "outputs": [
    {
     "data": {
      "text/plain": [
       "False"
      ]
     },
     "execution_count": 6,
     "metadata": {},
     "output_type": "execute_result"
    }
   ],
   "source": [
    "dt > dt0"
   ]
  }
 ],
 "metadata": {
  "kernelspec": {
   "display_name": "Python 2",
   "language": "python",
   "name": "python2"
  },
  "language_info": {
   "codemirror_mode": {
    "name": "ipython",
    "version": 2
   },
   "file_extension": ".py",
   "mimetype": "text/x-python",
   "name": "python",
   "nbconvert_exporter": "python",
   "pygments_lexer": "ipython2",
   "version": "2.7.10"
  }
 },
 "nbformat": 4,
 "nbformat_minor": 0
}
